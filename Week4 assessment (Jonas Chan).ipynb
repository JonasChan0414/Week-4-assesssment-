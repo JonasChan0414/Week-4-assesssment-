{
 "cells": [
  {
   "cell_type": "code",
   "execution_count": 1,
   "id": "8364433d",
   "metadata": {},
   "outputs": [],
   "source": [
    "\n",
    "import json\n",
    "import requests\n",
    "import pprint"
   ]
  },
  {
   "cell_type": "code",
   "execution_count": 3,
   "id": "0a96c713",
   "metadata": {},
   "outputs": [
    {
     "name": "stdout",
     "output_type": "stream",
     "text": [
      "<Response [200]>\n"
     ]
    }
   ],
   "source": [
    "# Start of question 1\n",
    "\n",
    "headers ={\"Accept\": \"application/json\", \"Accept-Language\" : \"en\"}\n",
    "url = \"https://openapi.westkowloon.hk/datagovhk/carpark\"\n",
    "\n",
    "\n",
    "res = requests.get(url, headers=headers) \n",
    "\n",
    "print(res)\n"
   ]
  },
  {
   "cell_type": "code",
   "execution_count": 4,
   "id": "19e5caba",
   "metadata": {},
   "outputs": [
    {
     "name": "stdout",
     "output_type": "stream",
     "text": [
      "{\"carParks\":[{\"id\":\"CP001\",\"td_eParking_id\":\"tdc17p1\",\"name\":{\"en\":\"Xiqu Centre Car Park, West Kowloon Cultural District\",\"tc\":\"西九文化區戲曲中心停車場\",\"sc\":\"西九文化区戏曲中心停车场\"},\"address\":{\"en\":\"88 Austin Road West, Tsim Sha Tsui, Kowloon\",\"tc\":\"香港九龍尖沙咀柯士甸道西88號\",\"sc\":\"香港九龙尖沙咀柯士甸道西88号\"},\"district\":{\"en\":\"Yau Tsim Mong\",\"tc\":\"油尖旺區\",\"sc\":\"油尖旺区\"},\"contactNo\":\"(852) 2200 0217\",\"openingStatus\":\"OPEN\",\"heightLimit\":\"N/A\",\"latitude\":\"22.30235672\",\"longitude\":\"114.1673496\",\"remark\":{\"en\":\"\",\"tc\":\"\",\"sc\":\"\"},\"website\":{\"en\":\"http://www.wkcda.hk\",\"tc\":\"http://www.wkcda.hk\",\"sc\":\"http://www.wkcda.hk\"},\"hourly_park_weekdays_except_public_holidays\":\"$28 per hour\",\"hourly_park_Sat_Sun_and_public_holidays\":\"$32 per hour\",\"day_park\":\"NA\",\"day_park_8:00am_6:00pm\":\"NA\",\"opening_hours\":\"24-hours\",\"vacancies\":[{\"vehicleType\":\"P\",\"monthly\":0,\"hourly\":47,\"timestamp\":\"15/09/2022 11:20:17.000000\"},{\"vehicleType\":\"M\",\"monthly\":0,\"hourly\":47,\"timestamp\":\"15/09/2022 11:20:17.000000\"},{\"vehicleType\":\"L\",\"monthly\":0,\"hourly\":47,\"timestamp\":\"15/09/2022 11:20:17.000000\"}],\"timestamp\":\"2022-10-19T20:04:33+800\"},{\"id\":\"CP002\",\"td_eParking_id\":\"tdc17p2\",\"name\":{\"en\":\"Art Park (Zone E) Car Park, West Kowloon Cultural District\",\"tc\":\"西九藝術公園(E區)停車場\",\"sc\":\"西九艺术公园(E区)停车场\"},\"address\":{\"en\":\"West Kowloon Cultural District, No.36 Museum Drive, Kowloon, Hong Kong\",\"tc\":\"香港九龍西九文化區博物館道36號\",\"sc\":\"香港九龙西九文化区博物馆道36号\"},\"district\":{\"en\":\"Yau Tsim Mong\",\"tc\":\"油尖旺區\",\"sc\":\"油尖旺区\"},\"contactNo\":\"(852) 2200 0217\",\"openingStatus\":\"OPEN\",\"heightLimit\":2.1,\"latitude\":\"22.30137257\",\"longitude\":\"114.1583411\",\"remark\":{\"en\":\"\",\"tc\":\"\",\"sc\":\"\"},\"website\":{\"en\":\"http://www.wkcda.hk\",\"tc\":\"http://www.wkcda.hk\",\"sc\":\"http://www.wkcda.hk\"},\"hourly_park_weekdays_except_public_holidays\":\"$28 per hour\",\"hourly_park_Sat_Sun_and_public_holidays\":\"$32 per hour\",\"day_park\":\"NA\",\"day_park_8:00am_6:00pm\":\"NA\",\"opening_hours\":\"24-hours\",\"vacancies\":[{\"vehicleType\":\"P\",\"hourly\":164,\"timestamp\":\"19/10/2022 20:04:56.000000\"},{\"vehicleType\":\"M\",\"hourly\":0,\"timestamp\":\"19/10/2022 20:04:56.000000\"}],\"timestamp\":\"2022-10-19T20:04:33+800\"},{\"id\":\"CP003\",\"td_eParking_id\":\"tdc52p1\",\"name\":{\"en\":\"Zone F Car Park, West Kowloon Cultural District\",\"tc\":\"西九文化區F區停車場\",\"sc\":\"西九文化区F区停车场\"},\"address\":{\"en\":\"West Kowloon Cultural District, No.38 Museum Drive, Kowloon, Hong Kong\",\"tc\":\"香港九龍西九文化區博物館道38號\",\"sc\":\"香港九龙西九文化区博物馆道38号\"},\"district\":{\"en\":\"Yau Tsim Mong\",\"tc\":\"油尖旺區\",\"sc\":\"油尖旺区\"},\"contactNo\":\"(852) 2200 0217\",\"openingStatus\":\"OPEN\",\"heightLimit\":2.1,\"latitude\":\"22.30137257\",\"longitude\":\"114.1583411\",\"remark\":{\"en\":\"\",\"tc\":\"\",\"sc\":\"\"},\"website\":{\"en\":\"http://www.wkcda.hk\",\"tc\":\"http://www.wkcda.hk\",\"sc\":\"http://www.wkcda.hk\"},\"hourly_park_weekdays_except_public_holidays\":\"$28 per hour\",\"hourly_park_Sat_Sun_and_public_holidays\":\"$32 per hour\",\"day_park\":\"NA\",\"day_park_8:00am_6:00pm\":\"NA\",\"opening_hours\":\"24-hours  (Entry Time: 8:00am - 10:00pm)\",\"vacancies\":[{\"vehicleType\":\"P\",\"hourly\":101,\"timestamp\":\"19/10/2022 20:04:56.000000\"},{\"vehicleType\":\"M\",\"hourly\":0,\"timestamp\":\"19/10/2022 20:04:56.000000\"}],\"timestamp\":\"2022-10-19T20:04:33+800\"}]}\n"
     ]
    }
   ],
   "source": [
    "print(res.text)"
   ]
  },
  {
   "cell_type": "code",
   "execution_count": 6,
   "id": "bec36a11",
   "metadata": {},
   "outputs": [
    {
     "name": "stdout",
     "output_type": "stream",
     "text": [
      "{'carParks': [{'id': 'CP001', 'td_eParking_id': 'tdc17p1', 'name': {'en': 'Xiqu Centre Car Park, West Kowloon Cultural District', 'tc': '西九文化區戲曲中心停車場', 'sc': '西九文化区戏曲中心停车场'}, 'address': {'en': '88 Austin Road West, Tsim Sha Tsui, Kowloon', 'tc': '香港九龍尖沙咀柯士甸道西88號', 'sc': '香港九龙尖沙咀柯士甸道西88号'}, 'district': {'en': 'Yau Tsim Mong', 'tc': '油尖旺區', 'sc': '油尖旺区'}, 'contactNo': '(852) 2200 0217', 'openingStatus': 'OPEN', 'heightLimit': 'N/A', 'latitude': '22.30235672', 'longitude': '114.1673496', 'remark': {'en': '', 'tc': '', 'sc': ''}, 'website': {'en': 'http://www.wkcda.hk', 'tc': 'http://www.wkcda.hk', 'sc': 'http://www.wkcda.hk'}, 'hourly_park_weekdays_except_public_holidays': '$28 per hour', 'hourly_park_Sat_Sun_and_public_holidays': '$32 per hour', 'day_park': 'NA', 'day_park_8:00am_6:00pm': 'NA', 'opening_hours': '24-hours', 'vacancies': [{'vehicleType': 'P', 'monthly': 0, 'hourly': 47, 'timestamp': '15/09/2022 11:20:17.000000'}, {'vehicleType': 'M', 'monthly': 0, 'hourly': 47, 'timestamp': '15/09/2022 11:20:17.000000'}, {'vehicleType': 'L', 'monthly': 0, 'hourly': 47, 'timestamp': '15/09/2022 11:20:17.000000'}], 'timestamp': '2022-10-19T20:04:33+800'}, {'id': 'CP002', 'td_eParking_id': 'tdc17p2', 'name': {'en': 'Art Park (Zone E) Car Park, West Kowloon Cultural District', 'tc': '西九藝術公園(E區)停車場', 'sc': '西九艺术公园(E区)停车场'}, 'address': {'en': 'West Kowloon Cultural District, No.36 Museum Drive, Kowloon, Hong Kong', 'tc': '香港九龍西九文化區博物館道36號', 'sc': '香港九龙西九文化区博物馆道36号'}, 'district': {'en': 'Yau Tsim Mong', 'tc': '油尖旺區', 'sc': '油尖旺区'}, 'contactNo': '(852) 2200 0217', 'openingStatus': 'OPEN', 'heightLimit': 2.1, 'latitude': '22.30137257', 'longitude': '114.1583411', 'remark': {'en': '', 'tc': '', 'sc': ''}, 'website': {'en': 'http://www.wkcda.hk', 'tc': 'http://www.wkcda.hk', 'sc': 'http://www.wkcda.hk'}, 'hourly_park_weekdays_except_public_holidays': '$28 per hour', 'hourly_park_Sat_Sun_and_public_holidays': '$32 per hour', 'day_park': 'NA', 'day_park_8:00am_6:00pm': 'NA', 'opening_hours': '24-hours', 'vacancies': [{'vehicleType': 'P', 'hourly': 164, 'timestamp': '19/10/2022 20:04:56.000000'}, {'vehicleType': 'M', 'hourly': 0, 'timestamp': '19/10/2022 20:04:56.000000'}], 'timestamp': '2022-10-19T20:04:33+800'}, {'id': 'CP003', 'td_eParking_id': 'tdc52p1', 'name': {'en': 'Zone F Car Park, West Kowloon Cultural District', 'tc': '西九文化區F區停車場', 'sc': '西九文化区F区停车场'}, 'address': {'en': 'West Kowloon Cultural District, No.38 Museum Drive, Kowloon, Hong Kong', 'tc': '香港九龍西九文化區博物館道38號', 'sc': '香港九龙西九文化区博物馆道38号'}, 'district': {'en': 'Yau Tsim Mong', 'tc': '油尖旺區', 'sc': '油尖旺区'}, 'contactNo': '(852) 2200 0217', 'openingStatus': 'OPEN', 'heightLimit': 2.1, 'latitude': '22.30137257', 'longitude': '114.1583411', 'remark': {'en': '', 'tc': '', 'sc': ''}, 'website': {'en': 'http://www.wkcda.hk', 'tc': 'http://www.wkcda.hk', 'sc': 'http://www.wkcda.hk'}, 'hourly_park_weekdays_except_public_holidays': '$28 per hour', 'hourly_park_Sat_Sun_and_public_holidays': '$32 per hour', 'day_park': 'NA', 'day_park_8:00am_6:00pm': 'NA', 'opening_hours': '24-hours  (Entry Time: 8:00am - 10:00pm)', 'vacancies': [{'vehicleType': 'P', 'hourly': 101, 'timestamp': '19/10/2022 20:04:56.000000'}, {'vehicleType': 'M', 'hourly': 0, 'timestamp': '19/10/2022 20:04:56.000000'}], 'timestamp': '2022-10-19T20:04:33+800'}]}\n",
      "<class 'dict'>\n"
     ]
    }
   ],
   "source": [
    "d = json.loads(res.text)\n",
    "print(d)\n",
    "print (type(d))"
   ]
  },
  {
   "cell_type": "code",
   "execution_count": 22,
   "id": "3804e50c",
   "metadata": {},
   "outputs": [
    {
     "name": "stdout",
     "output_type": "stream",
     "text": [
      "['Xiqu Centre Car Park, West Kowloon Cultural District', 'N/A', 'Art Park (Zone E) Car Park, West Kowloon Cultural District', 2.1]\n",
      "None\n"
     ]
    }
   ],
   "source": [
    "def CarParkInfo():\n",
    "    list_1 = [d['carParks'][0]['name']['en'],\n",
    "          d['carParks'][0]['heightLimit'],\n",
    "          d['carParks'][1]['name']['en'],\n",
    "         d['carParks'][1]['heightLimit']]\n",
    "    print (list_1)\n",
    "\n",
    "print (CarParkInfo())\n",
    "    \n",
    "# END of Question 1 \n",
    " "
   ]
  },
  {
   "cell_type": "code",
   "execution_count": null,
   "id": "d39df6ad",
   "metadata": {},
   "outputs": [],
   "source": [
    "# Start of question 2\n",
    "#Problem 2\n",
    "#Scrape the first 3 pages of the book \n",
    "#catalogue available in http://books.toscrape.com/ \n",
    "#and find the total sum of the prices of the books shown in the first 3 pages. \n",
    "#Your function findTotalSum() should have an input parameter of n, \n",
    "#indicating the first n pages it will scrape. The function should return the sum with type float."
   ]
  },
  {
   "cell_type": "code",
   "execution_count": 10,
   "id": "46adaded",
   "metadata": {},
   "outputs": [
    {
     "name": "stdout",
     "output_type": "stream",
     "text": [
      "Enter a parameter : 4\n",
      "2100.1600000000003\n",
      "None\n"
     ]
    }
   ],
   "source": [
    "import requests\n",
    "import pandas as pd\n",
    "from bs4 import BeautifulSoup as soup\n",
    "\n",
    "def findTotalSum():\n",
    "    header_1 = {'User-Agent': 'Mozilla/5.0 (Windows NT 10.0; Win64; x64) AppleWebKit/537.36 (KHTML, like Gecko) Chrome/105.0.0.0 Safari/537.36'}\n",
    "    url = 'https://books.toscrape.com/catalogue/page-'\n",
    "    n = int(input('Enter a parameter : '))\n",
    "    \n",
    "    book_list = []\n",
    "    for page in range(1,n):\n",
    "        r = requests.get(url + str(page) +'.html')\n",
    "        bsobj = soup(r.text, \"html.parser\")\n",
    "        bookprice = bsobj.findAll('div',{'class':'product_price'})\n",
    "        for i in bookprice:\n",
    "            dict_2 = {\"price\" :i.find('p',{\"class\":\"price_color\"}).text}\n",
    "            book_list.append(dict_2)\n",
    "\n",
    "    df = pd.DataFrame(book_list)\n",
    "    df['prices(£)'] = df['price'].dropna().apply(lambda x: str(x).split(\"£\")[1])\n",
    "    del df['price']\n",
    "    df = df.astype({'prices(£)':'float'})\n",
    "    Sum_price = df['prices(£)'].sum()\n",
    "    print (Sum_price)\n",
    "print (findTotalSum())\n",
    "\n"
   ]
  },
  {
   "cell_type": "code",
   "execution_count": null,
   "id": "5fca63b9",
   "metadata": {},
   "outputs": [],
   "source": []
  }
 ],
 "metadata": {
  "kernelspec": {
   "display_name": "Python 3 (ipykernel)",
   "language": "python",
   "name": "python3"
  },
  "language_info": {
   "codemirror_mode": {
    "name": "ipython",
    "version": 3
   },
   "file_extension": ".py",
   "mimetype": "text/x-python",
   "name": "python",
   "nbconvert_exporter": "python",
   "pygments_lexer": "ipython3",
   "version": "3.9.12"
  }
 },
 "nbformat": 4,
 "nbformat_minor": 5
}
